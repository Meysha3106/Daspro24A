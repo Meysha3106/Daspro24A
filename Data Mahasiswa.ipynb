{
 "cells": [
  {
   "cell_type": "code",
   "execution_count": 1,
   "id": "60dc3aed-b743-4600-9a73-5d5f1dd2e038",
   "metadata": {},
   "outputs": [
    {
     "name": "stdout",
     "output_type": "stream",
     "text": [
      "=== Menu ===\n",
      "1. Tambah Data\n",
      "2. Tampilkan Data\n",
      "3. Cari Data\n",
      "4. Exit\n"
     ]
    },
    {
     "name": "stdin",
     "output_type": "stream",
     "text": [
      "Pilih menu (1/2/3/4):  1\n",
      "Masukkan NIM:  20240040220\n",
      "Masukkan Nama:  Meysha Mustika Dewi\n",
      "Masukkan Jurusan:  Teknik Informatika\n"
     ]
    },
    {
     "name": "stdout",
     "output_type": "stream",
     "text": [
      "Data berhasil ditambahkan!\n",
      "\n",
      "=== Menu ===\n",
      "1. Tambah Data\n",
      "2. Tampilkan Data\n",
      "3. Cari Data\n",
      "4. Exit\n"
     ]
    },
    {
     "name": "stdin",
     "output_type": "stream",
     "text": [
      "Pilih menu (1/2/3/4):  4\n"
     ]
    },
    {
     "name": "stdout",
     "output_type": "stream",
     "text": [
      "Terima kasih. Program selesai.\n"
     ]
    }
   ],
   "source": [
    "mahasiswa = []\n",
    "\n",
    "def tambah_data():\n",
    "    try:\n",
    "        nim = input(\"Masukkan NIM: \")\n",
    "        nama = input(\"Masukkan Nama: \")\n",
    "        jurusan = input(\"Masukkan Jurusan: \")\n",
    "        mahasiswa.append({\"NIM\": nim, \"Nama\": nama, \"Jurusan\": jurusan})\n",
    "        print(\"Data berhasil ditambahkan!\\n\")\n",
    "    except Exception as e:\n",
    "        print(f\"Terjadi kesalahan saat menambah data: {e}\\n\")\n",
    "\n",
    "def tampilkan_data():\n",
    "    try:\n",
    "        if not mahasiswa:\n",
    "            print(\"Belum ada data mahasiswa.\\n\")\n",
    "        else:\n",
    "            print(\"Data Mahasiswa:\")\n",
    "            for mhs in mahasiswa:\n",
    "                print(f\"NIM: {mhs['NIM']}, Nama: {mhs['Nama']}, Jurusan: {mhs['Jurusan']}\")\n",
    "            print()\n",
    "    except Exception as e:\n",
    "        print(f\"Terjadi kesalahan saat menampilkan data: {e}\\n\")\n",
    "\n",
    "def cari_data():\n",
    "    try:\n",
    "        nim_cari = input(\"Masukkan NIM yang dicari: \")\n",
    "        ditemukan = False\n",
    "        for mhs in mahasiswa:\n",
    "            if mhs[\"NIM\"] == nim_cari:\n",
    "                print(f\"Data Ditemukan - NIM: {mhs['NIM']}, Nama: {mhs['Nama']}, Jurusan: {mhs['Jurusan']}\\n\")\n",
    "                ditemukan = True\n",
    "                break\n",
    "        if not ditemukan:\n",
    "            print(\"Data tidak ditemukan.\\n\")\n",
    "    except Exception as e:\n",
    "        print(f\"Terjadi kesalahan saat mencari data: {e}\\n\")\n",
    "\n",
    "def menu():\n",
    "    while True:\n",
    "        try:\n",
    "            print(\"=== Menu ===\")\n",
    "            print(\"1. Tambah Data\")\n",
    "            print(\"2. Tampilkan Data\")\n",
    "            print(\"3. Cari Data\")\n",
    "            print(\"4. Exit\")\n",
    "            pilihan = input(\"Pilih menu (1/2/3/4): \")\n",
    "\n",
    "            if pilihan == \"1\":\n",
    "                tambah_data()\n",
    "            elif pilihan == \"2\":\n",
    "                tampilkan_data()\n",
    "            elif pilihan == \"3\":\n",
    "                cari_data()\n",
    "            elif pilihan == \"4\":\n",
    "                print(\"Terima kasih. Program selesai.\")\n",
    "                break\n",
    "            else:\n",
    "                print(\"Pilihan tidak valid!\\n\")\n",
    "        except Exception as e:\n",
    "            print(f\"Terjadi kesalahan pada menu: {e}\\n\")\n",
    "\n",
    "# Menjalankan program\n",
    "menu()"
   ]
  }
 ],
 "metadata": {
  "kernelspec": {
   "display_name": "Python [conda env:base] *",
   "language": "python",
   "name": "conda-base-py"
  },
  "language_info": {
   "codemirror_mode": {
    "name": "ipython",
    "version": 3
   },
   "file_extension": ".py",
   "mimetype": "text/x-python",
   "name": "python",
   "nbconvert_exporter": "python",
   "pygments_lexer": "ipython3",
   "version": "3.12.7"
  }
 },
 "nbformat": 4,
 "nbformat_minor": 5
}
