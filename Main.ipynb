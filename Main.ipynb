{
 "cells": [
  {
   "cell_type": "code",
   "execution_count": null,
   "id": "07a8b867-ba59-4416-b70f-b9985dcf5020",
   "metadata": {},
   "outputs": [],
   "source": [
    "#from modul import pemilih, calon, voting, statistik\n",
    "\n",
    "def main():\n",
    "    while True:\n",
    "        print(\"\\n===== SISTEM E-VOTING =====\")\n",
    "        print(\"1. Daftar Pemilih\")\n",
    "        print(\"2. Daftar Calon Ketua\")\n",
    "        print(\"3. Voting\")\n",
    "        print(\"4. Tampilkan Hasil Sementara\")\n",
    "        print(\"5. Statistik Pemilu\")\n",
    "        print(\"6. Keluar\")\n",
    "\n",
    "        pilihan = input(\"Pilih menu (1-6): \")\n",
    "\n",
    "        if pilihan == \"1\":\n",
    "            pemilih.tambah_pemilih()\n",
    "        elif pilihan == \"2\":\n",
    "            calon.tambah_calon()\n",
    "        elif pilihan == \"3\":\n",
    "            voting.lakukan_voting()\n",
    "        elif pilihan == \"4\":\n",
    "            voting.tampilkan_hasil()\n",
    "        elif pilihan == \"5\":\n",
    "            statistik.tampilkan_statistik()\n",
    "        elif pilihan == \"6\":\n",
    "            print(\"Terima kasih!\")\n",
    "            break\n",
    "        else:\n",
    "            print(\"Pilihan tidak valid.\")\n",
    "\n",
    "if __name__ == \"__main__\":\n",
    "    main()"
   ]
  }
 ],
 "metadata": {
  "kernelspec": {
   "display_name": "Python [conda env:base] *",
   "language": "python",
   "name": "conda-base-py"
  },
  "language_info": {
   "codemirror_mode": {
    "name": "ipython",
    "version": 3
   },
   "file_extension": ".py",
   "mimetype": "text/x-python",
   "name": "python",
   "nbconvert_exporter": "python",
   "pygments_lexer": "ipython3",
   "version": "3.12.7"
  }
 },
 "nbformat": 4,
 "nbformat_minor": 5
}
