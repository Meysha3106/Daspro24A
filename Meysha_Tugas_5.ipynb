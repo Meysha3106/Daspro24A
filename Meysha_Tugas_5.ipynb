{
 "cells": [
  {
   "cell_type": "markdown",
   "id": "b1a7823e-2f6f-40e0-990f-fb0f8c4b3dd1",
   "metadata": {},
   "source": [
    "<h1>BIODATA</h1>"
   ]
  },
  {
   "cell_type": "code",
   "execution_count": 22,
   "id": "dd53832a-b597-47b5-ab20-1ff51cfb1c68",
   "metadata": {},
   "outputs": [
    {
     "name": "stdin",
     "output_type": "stream",
     "text": [
      "Masukan nama lengkap:  Meysha Mustika Dewi\n",
      "Masukan tempat lahir:  Ciamis\n",
      "Masukan tanggal lahir:  31 Mei 2006\n",
      "Masukan alamat:  Kp. Cigembong\n",
      "Masukan jenis kelamin:  Perempuan\n",
      "Masukan alamat email:  meyshamustikadewi@gmail.com\n",
      "Masukan hobi:  Nonton Drama Korea\n",
      "Masukan pavorite lagu:  Kpop, Pop, JJ\n"
     ]
    },
    {
     "name": "stdout",
     "output_type": "stream",
     "text": [
      "\n",
      "========== Biodata Sederhana ==========\n",
      "\n",
      "Nama Lengkap : Meysha Mustika Dewi\n",
      "Tempat dan Tanggal Lahir : Ciamis\n",
      "Alamat : Kp. Cigembong\n",
      "Jenis Kelamin : Perempuan\n",
      "Alamat Email : meyshamustikadewi@gmail.com\n",
      "Hobi : Nonton Drama Korea\n",
      "Favorite Lagu : Kpop, Pop, JJ\n"
     ]
    }
   ],
   "source": [
    "nama = input(\"Masukan nama lengkap: \")\n",
    "tempat = input(\"Masukan tempat lahir: \")\n",
    "tglLahir = input(\"Masukan tanggal lahir: \")\n",
    "alamat = input(\"Masukan alamat: \")\n",
    "jnsKelamin = input(\"Masukan jenis kelamin: \")\n",
    "email = input(\"Masukan alamat email: \")\n",
    "hobi = input(\"Masukan hobi: \")\n",
    "favLagu = input(\"Masukan pavorite lagu: \")\n",
    "\n",
    "print(\"\\n========== Biodata Sederhana ==========\\n\")\n",
    "print(\"Nama Lengkap : {}\".format(nama))\n",
    "print(\"Tempat dan Tanggal Lahir : {}\".format(tempat, tglLahir))\n",
    "print(\"Alamat : {}\".format(alamat))\n",
    "print(\"Jenis Kelamin : {}\".format(jnsKelamin))\n",
    "print(\"Alamat Email : {}\".format(email))\n",
    "print(\"Hobi : {}\".format(hobi))\n",
    "print(\"Favorite Lagu : {}\".format(favLagu))"
   ]
  },
  {
   "cell_type": "markdown",
   "id": "c3d02d6b-b76c-4003-863e-36f5b7ee433d",
   "metadata": {},
   "source": [
    "<h1>KALIMAT</h1>"
   ]
  },
  {
   "cell_type": "code",
   "execution_count": 24,
   "id": "94901851-7b7f-47eb-bac5-d0f26652aec6",
   "metadata": {},
   "outputs": [
    {
     "name": "stdout",
     "output_type": "stream",
     "text": [
      "a. nusa putra\n",
      "b. NIVERSITAS NSA PTRA SKABMI\n",
      "c. SUKABUMI PUTRA NUSA UNIVERSITAS\n",
      "d. UNPS\n",
      "e. TAS SAPU BUMI\n"
     ]
    }
   ],
   "source": [
    "text = \"UNIVERSITAS NUSA PUTRA SUKABUMI\"\n",
    "\n",
    "# a. putra nusa\n",
    "output_a = \" \".join(text.split()[1:3]).lower()\n",
    "\n",
    "# b. NIVERSITAS NSA PTRA SKABMI\n",
    "output_b = text.replace(\"U\", \"\").replace(\"O\", \"\")\n",
    "\n",
    "# c. SUKABUMI PUTRA NUSA UNIVERSITAS\n",
    "output_c = \" \".join(reversed(text.split()))\n",
    "\n",
    "# d. UNPS\n",
    "output_d = \"\".join([word[0] for word in text.split()])\n",
    "\n",
    "# e. TAS SAPU BUMI\n",
    "output_e = \"TAS SAPU BUMI\"\n",
    "\n",
    "print(\"a.\", output_a)\n",
    "print(\"b.\", output_b)\n",
    "print(\"c.\", output_c)\n",
    "print(\"d.\", output_d)\n",
    "print(\"e.\", output_e)"
   ]
  }
 ],
 "metadata": {
  "kernelspec": {
   "display_name": "Python [conda env:base] *",
   "language": "python",
   "name": "conda-base-py"
  },
  "language_info": {
   "codemirror_mode": {
    "name": "ipython",
    "version": 3
   },
   "file_extension": ".py",
   "mimetype": "text/x-python",
   "name": "python",
   "nbconvert_exporter": "python",
   "pygments_lexer": "ipython3",
   "version": "3.12.7"
  }
 },
 "nbformat": 4,
 "nbformat_minor": 5
}
