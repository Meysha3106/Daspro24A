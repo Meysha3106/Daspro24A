{
 "cells": [
  {
   "cell_type": "code",
   "execution_count": 15,
   "id": "b429d1ba-835f-4fc9-8077-cdba859a729c",
   "metadata": {},
   "outputs": [
    {
     "name": "stdout",
     "output_type": "stream",
     "text": [
      "UKA ATNIC UMAK\n",
      "PYTHON BELAJAR HARI SEDANG INI\n",
      "Ak|_| C1nt4 K4m|_|\n",
      "4ku Cinta Kamu\n"
     ]
    }
   ],
   "source": [
    "#Fungsi untuk membalik setiap kata dalam kalimat tanpa mengubah urutan katanya\n",
    "\n",
    "def reverse_per_kata(kalimat):\n",
    "    kata_list = kalimat.split() #Memisahkan kalimat menjadi list kata\n",
    "    kata_terbalik = [kata[::-1] for kata in kata_list] #Membalik setiap kata\n",
    "    return ' '.join(kata_terbalik) #Menggabungkan kembali  menjadi kalimat\n",
    "\n",
    "#Fungsi untuk mengurutkan kata-kata dalam kalimat sesuai indeks dalam list urutan\n",
    "def urutkan_kalimat(kalimat, urutan):\n",
    "    kata_list = kalimat.split() #Memisahkan kalimat menjadi list kata\n",
    "    hasil = [kata_list[i - 1] for i in urutan] #Menyesuaikan indeks (karena urutan harus dimulai dari 1)\n",
    "    return ' '.join(hasil) #Menggabungakan kembali menjadi kalimat\n",
    "\n",
    "#Fungsi untuk mengganti huruf vokal dengan simbol tertentu\n",
    "def ganti_vokal(kalimat, opsi):\n",
    "    #Maping pengganti vokal\n",
    "    vokal_kecil = {'a': '4', 'i': '1', 'u': '|_|', 'e': '3', 'o': '0'} # Kamus pengganti untuk huruf vokal kecil\n",
    "    vokal_besar = {'A': '4', 'I': '1', 'U': '|_|', 'E': '3', 'O': '0'} # Kamus pengganti untuk huruf vokal kapital\n",
    "    hasil = \"\" #Variabel penampung hasil kalimat setelah diubah\n",
    "\n",
    "    #Perulangan untuk memproses setiap karakter dalam kalimat\n",
    "    for huruf in kalimat:\n",
    "        #Jika opsi 1, cek dan ubah hanya vokal kecil\n",
    "        if opsi == 1 and huruf in vokal_kecil:\n",
    "            hasil += vokal_kecil[huruf] #Menambahkan versi simbol ke hasil\n",
    "        #Jika opsi 2, cek dan ubah hanya vokal besar\n",
    "        elif opsi == 2 and huruf in vokal_besar:\n",
    "            hasil += vokal_besar[huruf] #Menambahkan versi simbol ke hasil\n",
    "        else:\n",
    "            #Jika bukan huruf vokal yang sesuai,tambahkan huruf asli\n",
    "            hasil += huruf\n",
    "    return hasil\n",
    "\n",
    "print(reverse_per_kata(\"AKU CINTA KAMU\"))\n",
    "print(urutkan_kalimat(\"HARI INI SEDANG BELAJAR PYTHON\", [5, 4, 1, 3, 2]))\n",
    "print(ganti_vokal(\"Aku Cinta Kamu\", 1))\n",
    "print(ganti_vokal(\"Aku Cinta Kamu\", 2))"
   ]
  }
 ],
 "metadata": {
  "kernelspec": {
   "display_name": "Python [conda env:base] *",
   "language": "python",
   "name": "conda-base-py"
  },
  "language_info": {
   "codemirror_mode": {
    "name": "ipython",
    "version": 3
   },
   "file_extension": ".py",
   "mimetype": "text/x-python",
   "name": "python",
   "nbconvert_exporter": "python",
   "pygments_lexer": "ipython3",
   "version": "3.12.7"
  }
 },
 "nbformat": 4,
 "nbformat_minor": 5
}
