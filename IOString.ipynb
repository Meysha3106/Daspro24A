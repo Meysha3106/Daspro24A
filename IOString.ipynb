{
 "cells": [
  {
   "cell_type": "markdown",
   "id": "de2599c6-410f-46af-97ee-5d7a4b323ebd",
   "metadata": {},
   "source": [
    "<h1>Input Output String</h1>"
   ]
  },
  {
   "cell_type": "code",
   "execution_count": 6,
   "id": "9174974a-dec0-45d3-ae29-365efd0466d9",
   "metadata": {},
   "outputs": [
    {
     "name": "stdin",
     "output_type": "stream",
     "text": [
      "Isikan Nama Anda Meysha\n"
     ]
    },
    {
     "name": "stdout",
     "output_type": "stream",
     "text": [
      "Selamat datang Meysha\n",
      "123Andi@Budi@Rudi\n"
     ]
    }
   ],
   "source": [
    "name = input(\"Isikan Nama Anda\")\n",
    "print(\"Selamat datang\",name) #menggabungkan variabel dengan string\n",
    "\n",
    "print(\"1\",end='') #mencetak disamping karakter\n",
    "print(\"2\",end='')\n",
    "print(\"3\",end='')\n",
    "\n",
    "#separator\n",
    "print(\"Andi\",\"Budi\",\"Rudi\",sep=\"@\")"
   ]
  },
  {
   "cell_type": "markdown",
   "id": "0d097adb-2661-490c-9725-8e6e77cae091",
   "metadata": {},
   "source": [
    "<h1>String Format</h1>"
   ]
  },
  {
   "cell_type": "code",
   "execution_count": 11,
   "id": "a2b5c430-70f2-4fd0-aff4-630ef4122ec9",
   "metadata": {},
   "outputs": [
    {
     "name": "stdin",
     "output_type": "stream",
     "text": [
      "Isikan bilangan 1: 3\n",
      "Isikan bilangan 2: 4\n"
     ]
    },
    {
     "name": "stdout",
     "output_type": "stream",
     "text": [
      "Hasil penjumlahan 3 + 4 = 7\n",
      "Hasil penjumlahan 3 + 4 = 7\n"
     ]
    }
   ],
   "source": [
    "val1 = int(input(\"Isikan bilangan 1:\"))\n",
    "val2 = int(input(\"Isikan bilangan 2:\"))\n",
    "\n",
    "#Hasil penjumlahan 3 + 4 = 7\n",
    "print(\"Hasil penjumlahan\",val1,\"+\",val2,\"=\",val1+val2)\n",
    "#String format menggunakan tanda {}\n",
    "print(\"Hasil penjumlahan {} + {} = {}\".format(val1,val2,val1+val2))"
   ]
  },
  {
   "cell_type": "markdown",
   "id": "ee4b16e5-99fb-4dfe-9244-9122b5f377b5",
   "metadata": {},
   "source": [
    "<h1>String Format Index</h1>"
   ]
  },
  {
   "cell_type": "code",
   "execution_count": 16,
   "id": "d3f3c9ef-6077-4835-bd85-82c68586a44a",
   "metadata": {},
   "outputs": [
    {
     "name": "stdin",
     "output_type": "stream",
     "text": [
      "Isikan Nama Depan: Mustika\n",
      "Isikan Nama Tengah: dewi\n",
      "Isikan Nama Belakang: Meysha\n"
     ]
    },
    {
     "name": "stdout",
     "output_type": "stream",
     "text": [
      "Nama Anda : Mustika dewi Meysha\n",
      "Nama Anda : dewi Mustika Meysha\n",
      "Nama Anda :Mustika dewi Meysha\n"
     ]
    }
   ],
   "source": [
    "fname = input(\"Isikan Nama Depan:\")\n",
    "mname = input(\"Isikan Nama Tengah:\")\n",
    "lname = input(\"Isikan Nama Belakang:\")\n",
    "\n",
    "print(\"Nama Anda : {} {} {}\".format(fname,mname,lname))\n",
    "#Menggunakan index\n",
    "print(\"Nama Anda : {1} {0} {2}\".format(fname,mname,lname))\n",
    "#Menggunakan key\n",
    "print(\"Nama Anda :{depan} {tengah} {belakang}\".format(belakang=lname,depan=fname,tengah=mname))"
   ]
  },
  {
   "cell_type": "markdown",
   "id": "aacd7f69-38c3-4850-ad76-c49104e861be",
   "metadata": {},
   "source": [
    "<h1>Slicing</h1>"
   ]
  },
  {
   "cell_type": "code",
   "execution_count": 21,
   "id": "6a8a69e7-5dd7-4edf-97b0-d10dfe91a68b",
   "metadata": {},
   "outputs": [
    {
     "name": "stdin",
     "output_type": "stream",
     "text": [
      "Isikan Nama Kampus Anda: upi\n"
     ]
    },
    {
     "name": "stdout",
     "output_type": "stream",
     "text": [
      "u\n",
      "upi\n",
      "i\n",
      "pi\n"
     ]
    }
   ],
   "source": [
    "#mengambil string/karakter dari string berdasarkan index\n",
    "\n",
    "university = input(\"Isikan Nama Kampus Anda:\")\n",
    "#mencetak karakter pertama\n",
    "print(university[0])\n",
    "#mencetak karakter pertama sampai ke 5\n",
    "print(university[0:5])\n",
    "#mencetak karakter paling akhir\n",
    "print(university[-1])\n",
    "#mencetak karakter ke 2 sampai selesai\n",
    "print(university[1:])"
   ]
  },
  {
   "cell_type": "markdown",
   "id": "d27982d4-4c4c-4214-8d4e-a5a22789304d",
   "metadata": {},
   "source": [
    "<h1>Fungsi String</h1>"
   ]
  },
  {
   "cell_type": "code",
   "execution_count": 30,
   "id": "5ff31014-8a0c-480a-81f0-b84ac4d31034",
   "metadata": {},
   "outputs": [
    {
     "name": "stdin",
     "output_type": "stream",
     "text": [
      "Isikan Nama Lengkap: Meysha Mustika Dewi\n"
     ]
    },
    {
     "name": "stdout",
     "output_type": "stream",
     "text": [
      "Nama Depan Meysha\n",
      "Nama Tengah Mustika\n",
      "Nama Belakang Dewi\n"
     ]
    }
   ],
   "source": [
    "fullName = input(\"Isikan Nama Lengkap:\")\n",
    "#split - untuk memisahkan string berdasarkan karakter tertentu\n",
    "name = fullName.split(' ')\n",
    "print(\"Nama Depan\",name[0])\n",
    "print(\"Nama Tengah\",name[1])\n",
    "print(\"Nama Belakang\",name[2])\n",
    "\n",
    "#print string\n",
    "print(f\"Nama Anda adalah {fullName}\")#sering digunakan\n",
    "\n",
    "#find untuk mencari karakter dalam string\n",
    "#jika ditemukan akan mengembalikan posisi index\n",
    "#jika tidak ditemukan mengembalikan nilai -1\n",
    "platMobil = \"N7865BB\"\n",
    "print(platMobil.find(\"B\"))"
   ]
  },
  {
   "cell_type": "code",
   "execution_count": 32,
   "id": "1229f72b-3619-4a96-8950-bc00ffe5676f",
   "metadata": {},
   "outputs": [
    {
     "name": "stdin",
     "output_type": "stream",
     "text": [
      "Masukan Email Anda: meyshamustikadewi@gmail.com\n"
     ]
    },
    {
     "name": "stdout",
     "output_type": "stream",
     "text": [
      "Posisi '@' : 17\n",
      "Posisi '.' : 23\n",
      "Tidak Valid\n"
     ]
    }
   ],
   "source": [
    "email = input(\"Masukan Email Anda:\")\n",
    "cek1 = email.find(\"@\")\n",
    "cek2 = email.find(\".\")\n",
    "print(\"Posisi '@' :\", cek1)\n",
    "print(\"Posisi '.' :\", cek2)\n",
    "cekValid = \"Email Valid\" if cek1 > -1 and cek2 > -1 and cek1 < cek1 else \"Tidak Valid\"\n",
    "print(cekValid)"
   ]
  },
  {
   "cell_type": "markdown",
   "id": "8e4a4469-6173-4839-b6a1-c3323450e16a",
   "metadata": {},
   "source": [
    "<h1>Random</h1>"
   ]
  },
  {
   "cell_type": "code",
   "execution_count": 67,
   "id": "a897d089-bc01-4184-b3be-d8e77a74a6ea",
   "metadata": {},
   "outputs": [
    {
     "name": "stdout",
     "output_type": "stream",
     "text": [
      "Hasil dari nilai Acak adalah 0.4610122340915146\n",
      "Hasil dari Nilai Acak bulat adalah 99\n",
      "Hasil dari nilai acak bulan adalah Ags\n",
      "Hasil dari nilai acak bulan adalah ['Fri', 5]\n",
      "Berapakah 59 + 77:\n"
     ]
    },
    {
     "name": "stdin",
     "output_type": "stream",
     "text": [
      "Isikan Hasilnya 136\n"
     ]
    },
    {
     "name": "stdout",
     "output_type": "stream",
     "text": [
      "Anda Benar !!!\n"
     ]
    }
   ],
   "source": [
    "from random import random\n",
    "nilai = random()\n",
    "print(f\"Hasil dari nilai Acak adalah {nilai}\")\n",
    "\n",
    "from random import randint\n",
    "nilaiInt = randint(0,100)\n",
    "print(f\"Hasil dari Nilai Acak bulat adalah {nilaiInt}\")\n",
    "\n",
    "from random import choice\n",
    "\n",
    "sMonth = [\"Jan\",\"Feb\",\"Mar\",\"Apr\",\"May\",\"Jun\",\"Jul\",\"Ags\",\"Sep\",\"Okt\",\"Nov\",\"Des\"]\n",
    "sDay = [[\"Mon\",1],[\"Tue\",2],[\"Wed\",3],[\"Thu\",4],[\"Fri\",5],[\"Sat\",6],[\"Sun\",7]]\n",
    "\n",
    "sMonth = choice(sMonth)\n",
    "sDay = choice(sDay)\n",
    "print(f\"Hasil dari nilai acak bulan adalah {sMonth}\")\n",
    "print(f\"Hasil dari nilai acak bulan adalah {sDay}\")\n",
    "\n",
    "nilai1 = randint(0,100)\n",
    "nilai2 = randint(0,100)\n",
    "operator = [\"+\",\"-\",\"*\",\"/\"]\n",
    "sOperator = choice(operator)\n",
    "print(f\"Berapakah {nilai1} {sOperator} {nilai2}:\")\n",
    "jawab = int(input(\"Isikan Hasilnya\"))\n",
    "\n",
    "#IF ELSE\n",
    "if sOperator ==\"+\":\n",
    "    cekJawab = \"Anda Benar !!!\" if jawab == nilai1 + nilai2 else \"Anda Salah !!\"\n",
    "elif sOperator ==\"-\":\n",
    "    cekJawab = \"Anda Benar !!!\" if jawab == nilai1 - nilai2 else \"Anda Salah !!\"\n",
    "elif sOperator ==\"*\":\n",
    "    cekJawab = \"Anda Benar !!!\" if jawab == nilai1 * nilai2 else \"Anda Salah !!\"\n",
    "elif sOperator ==\"/\":\n",
    "    cekJawab = \"Anda Benar !!!\" if jawab == nilai1 // nilai2 else \"Anda Salah !!\"\n",
    "\n",
    "print(cekJawab)"
   ]
  },
  {
   "cell_type": "code",
   "execution_count": 69,
   "id": "c883c697-e958-4d63-a302-5aa9c54eeb84",
   "metadata": {},
   "outputs": [
    {
     "name": "stdout",
     "output_type": "stream",
     "text": [
      "Apa Bahasa Inggrisnya Makan\n"
     ]
    },
    {
     "name": "stdin",
     "output_type": "stream",
     "text": [
      "Masukan Jawaban eat\n"
     ]
    },
    {
     "name": "stdout",
     "output_type": "stream",
     "text": [
      "Anda Benar !!\n"
     ]
    }
   ],
   "source": [
    "kata = [\"Makan\", \"Minum\", \"Berenang\"]\n",
    "sKata = choice(kata)\n",
    "print(f\"Apa Bahasa Inggrisnya {sKata}\")\n",
    "jawab =  input(\"Masukan Jawaban\")\n",
    "if sKata == \"Makan\":\n",
    "    cekJawab = \"Anda Benar !!\" if jawab == \"eat\" else \"Anda Salah !!\"\n",
    "elif sKata == \"Minum\": \n",
    "    \"Anda Benar !!\" if jawab == \"drink\" else \"Anda Salah !!\"\n",
    "elif sKata == \"Berenang\": \n",
    "    \"Anda Benar !!\" if jawab == \"Swimming\" else \"Anda Salah !!\"\n",
    "print(cekJawab)"
   ]
  },
  {
   "cell_type": "code",
   "execution_count": 11,
   "id": "f41d855d-adc5-4952-b534-61bef873f3e2",
   "metadata": {},
   "outputs": [
    {
     "name": "stdin",
     "output_type": "stream",
     "text": [
      "ENG -> IND (1) -> ENG(2) 1\n"
     ]
    },
    {
     "name": "stdout",
     "output_type": "stream",
     "text": [
      "Apa arti dari reading?\n"
     ]
    },
    {
     "name": "stdin",
     "output_type": "stream",
     "text": [
      "Isikan jawaban:  membaca\n"
     ]
    },
    {
     "name": "stdout",
     "output_type": "stream",
     "text": [
      "Anda Benar !!\n"
     ]
    }
   ],
   "source": [
    "from random import choice\n",
    "kamus = [[\"makan\",\"eat\"],[\"minum\",\"drink\"],[\"membaca\",\"reading\"],[\"berenang\",\"swimming\"]]\n",
    "sKamus = choice(kamus)\n",
    "pilihan = int(input(\"ENG -> IND (1) -> ENG(2)\"))\n",
    "if pilihan ==1:\n",
    "    print(f\"Apa arti dari {sKamus[1]}?\")\n",
    "    jawab = input(\"Isikan jawaban: \")\n",
    "    cekTranslate = \"Anda Benar !!\" if jawab.lower() == sKamus[0] else \"Anda Salah !!\"\n",
    "elif pilihan ==2:\n",
    "    print(f\"Apa arti dari {sKamus[0]}?\")\n",
    "    jawab = input(\"Isikan jawaban: \")\n",
    "    cekTranslate = \"Anda Benar !!\" if jawab.lower() == sKamus[0] else \"Anda Salah !!\"\n",
    "print(cekTranslate)"
   ]
  }
 ],
 "metadata": {
  "kernelspec": {
   "display_name": "Python [conda env:base] *",
   "language": "python",
   "name": "conda-base-py"
  },
  "language_info": {
   "codemirror_mode": {
    "name": "ipython",
    "version": 3
   },
   "file_extension": ".py",
   "mimetype": "text/x-python",
   "name": "python",
   "nbconvert_exporter": "python",
   "pygments_lexer": "ipython3",
   "version": "3.12.7"
  }
 },
 "nbformat": 4,
 "nbformat_minor": 5
}
